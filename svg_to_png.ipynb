{
 "cells": [
  {
   "cell_type": "code",
   "execution_count": 13,
   "metadata": {},
   "outputs": [
    {
     "name": "stdout",
     "output_type": "stream",
     "text": [
      "['equation (14).svg', 'equation (13).svg', 'equation (12).svg', 'equation (11).svg', 'equation (10).svg', 'equation (9).svg', 'equation (8).svg', 'equation (7).svg', 'equation (6).svg', 'equation (5).svg', 'equation (4).svg', 'equation (3).svg', 'equation (2).svg', 'equation (1).svg', 'equation.svg']\n"
     ]
    }
   ],
   "source": [
    "import os\n",
    "\n",
    "# Folder Path\n",
    "folder_path = './SVG_3'\n",
    "\n",
    "# List files\n",
    "files = os.listdir(folder_path)\n",
    "\n",
    "# Filter files (remove folders)\n",
    "files = [file for file in files if os.path.isfile(os.path.join(folder_path, file))]\n",
    "print(files)"
   ]
  },
  {
   "cell_type": "code",
   "execution_count": 14,
   "metadata": {},
   "outputs": [],
   "source": [
    "import cairosvg\n",
    "\n",
    "# Function to convert SVG to PNG\n",
    "def converter_svg_to_png(entrada_svg, saida_png):\n",
    "    try:\n",
    "        cairosvg.svg2png(url=entrada_svg, write_to=saida_png)\n",
    "        print(f'Conversão concluída: {saida_png}')\n",
    "    except Exception as e:\n",
    "        print(f'Ocorreu um erro: {e}')"
   ]
  },
  {
   "cell_type": "code",
   "execution_count": 15,
   "metadata": {},
   "outputs": [
    {
     "name": "stdout",
     "output_type": "stream",
     "text": [
      "Conversão concluída: ./PNG_3/equation (14).png\n",
      "Conversão concluída: ./PNG_3/equation (13).png\n",
      "Conversão concluída: ./PNG_3/equation (12).png\n",
      "Conversão concluída: ./PNG_3/equation (11).png\n",
      "Conversão concluída: ./PNG_3/equation (10).png\n",
      "Conversão concluída: ./PNG_3/equation (9).png\n",
      "Conversão concluída: ./PNG_3/equation (8).png\n",
      "Conversão concluída: ./PNG_3/equation (7).png\n",
      "Conversão concluída: ./PNG_3/equation (6).png\n",
      "Conversão concluída: ./PNG_3/equation (5).png\n",
      "Conversão concluída: ./PNG_3/equation (4).png\n",
      "Conversão concluída: ./PNG_3/equation (3).png\n",
      "Conversão concluída: ./PNG_3/equation (2).png\n",
      "Conversão concluída: ./PNG_3/equation (1).png\n",
      "Conversão concluída: ./PNG_3/equation.png\n"
     ]
    }
   ],
   "source": [
    "for svg_file in files:\n",
    "    png_file_path = f'./PNG_3/{svg_file.split(\".\")[0]}.png'\n",
    "    converter_svg_to_png(f\"{folder_path}/{svg_file}\", png_file_path)"
   ]
  }
 ],
 "metadata": {
  "kernelspec": {
   "display_name": "Nonlinear_Programming_Work_Kernel",
   "language": "python",
   "name": "nonlinear_programming_work_kernel"
  },
  "language_info": {
   "codemirror_mode": {
    "name": "ipython",
    "version": 3
   },
   "file_extension": ".py",
   "mimetype": "text/x-python",
   "name": "python",
   "nbconvert_exporter": "python",
   "pygments_lexer": "ipython3",
   "version": "3.12.8"
  }
 },
 "nbformat": 4,
 "nbformat_minor": 2
}
